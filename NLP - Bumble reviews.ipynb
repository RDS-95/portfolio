{
 "cells": [
  {
   "cell_type": "markdown",
   "id": "a2e92e29",
   "metadata": {},
   "source": [
    "# 🐝🐝 How Users get Stung by Bumble"
   ]
  },
  {
   "cell_type": "markdown",
   "id": "1b311cf8",
   "metadata": {},
   "source": [
    "**The data used for this notebook was taken from https://www.kaggle.com/datasets/shivkumarganesh/bumble-dating-app-google-play-store-review**"
   ]
  },
  {
   "cell_type": "code",
   "execution_count": 1,
   "id": "ac187035",
   "metadata": {},
   "outputs": [],
   "source": [
    "import numpy as np\n",
    "import pandas as pd\n",
    "import matplotlib.pyplot as plt\n",
    "import sklearn"
   ]
  },
  {
   "cell_type": "code",
   "execution_count": 4,
   "id": "d2f1cb70",
   "metadata": {},
   "outputs": [],
   "source": [
    "df = pd.read_csv(r'C:\\Users\\rudys\\Downloads\\python-notebooks\\Kaggle\\Bumble\\data\\bumble_google_play_reviews.csv')"
   ]
  },
  {
   "cell_type": "markdown",
   "id": "30f40885",
   "metadata": {},
   "source": [
    "**I'd like to look at bad reviews and good reviews. See if we can analyse what characteristics a bad or a good review of this dating app might be likely to contain.**\n",
    "\n",
    "**For this purpose, all I'm going to use is the content of the review text and the score. The other columns will be dropped.**"
   ]
  },
  {
   "cell_type": "code",
   "execution_count": 5,
   "id": "4592ccba",
   "metadata": {},
   "outputs": [],
   "source": [
    "df_new = df[['content', 'score']].copy()"
   ]
  },
  {
   "cell_type": "markdown",
   "id": "d72206fb",
   "metadata": {},
   "source": [
    "**Rating is assigned on a 5 point scale. Take only the ends of the review spectrum. This should emphasise the difference**"
   ]
  },
  {
   "cell_type": "code",
   "execution_count": 6,
   "id": "22731268",
   "metadata": {},
   "outputs": [],
   "source": [
    "strong_review_df = df_new.loc[(df['score'] == 1) | (df['score'] == 5)]"
   ]
  },
  {
   "cell_type": "code",
   "execution_count": 7,
   "id": "6c7d0ea7",
   "metadata": {},
   "outputs": [],
   "source": [
    "strong_review_df = strong_review_df.loc[(df['content'] != None ) & (df['score'] != None)]"
   ]
  },
  {
   "cell_type": "code",
   "execution_count": 8,
   "id": "eb010932",
   "metadata": {},
   "outputs": [
    {
     "data": {
      "text/html": [
       "<div>\n",
       "<style scoped>\n",
       "    .dataframe tbody tr th:only-of-type {\n",
       "        vertical-align: middle;\n",
       "    }\n",
       "\n",
       "    .dataframe tbody tr th {\n",
       "        vertical-align: top;\n",
       "    }\n",
       "\n",
       "    .dataframe thead th {\n",
       "        text-align: right;\n",
       "    }\n",
       "</style>\n",
       "<table border=\"1\" class=\"dataframe\">\n",
       "  <thead>\n",
       "    <tr style=\"text-align: right;\">\n",
       "      <th></th>\n",
       "      <th>content</th>\n",
       "      <th>score</th>\n",
       "    </tr>\n",
       "  </thead>\n",
       "  <tbody>\n",
       "    <tr>\n",
       "      <th>0</th>\n",
       "      <td>Horrible experience, stuck on photo verificati...</td>\n",
       "      <td>1</td>\n",
       "    </tr>\n",
       "    <tr>\n",
       "      <th>1</th>\n",
       "      <td>Shows me nothing but guys when im straight. Yo...</td>\n",
       "      <td>1</td>\n",
       "    </tr>\n",
       "    <tr>\n",
       "      <th>2</th>\n",
       "      <td>so super</td>\n",
       "      <td>5</td>\n",
       "    </tr>\n",
       "    <tr>\n",
       "      <th>3</th>\n",
       "      <td>Heard great things about this app. Unfortunate...</td>\n",
       "      <td>1</td>\n",
       "    </tr>\n",
       "    <tr>\n",
       "      <th>7</th>\n",
       "      <td>I waa charged but I cancelled weeks ago!</td>\n",
       "      <td>1</td>\n",
       "    </tr>\n",
       "  </tbody>\n",
       "</table>\n",
       "</div>"
      ],
      "text/plain": [
       "                                             content  score\n",
       "0  Horrible experience, stuck on photo verificati...      1\n",
       "1  Shows me nothing but guys when im straight. Yo...      1\n",
       "2                                           so super      5\n",
       "3  Heard great things about this app. Unfortunate...      1\n",
       "7           I waa charged but I cancelled weeks ago!      1"
      ]
     },
     "execution_count": 8,
     "metadata": {},
     "output_type": "execute_result"
    }
   ],
   "source": [
    "strong_review_df.head()"
   ]
  },
  {
   "cell_type": "code",
   "execution_count": 9,
   "id": "83ae6248",
   "metadata": {},
   "outputs": [
    {
     "name": "stdout",
     "output_type": "stream",
     "text": [
      "The length of our data set is: 78456\n"
     ]
    }
   ],
   "source": [
    "print('The length of our data set is: {}'.format(len(strong_review_df)))"
   ]
  },
  {
   "cell_type": "code",
   "execution_count": 10,
   "id": "aa2da686",
   "metadata": {},
   "outputs": [
    {
     "name": "stdout",
     "output_type": "stream",
     "text": [
      "The number of bad reviews: 45753\n",
      "The number of good reviews: 32703\n"
     ]
    }
   ],
   "source": [
    "print('The number of bad reviews: {}'.format(strong_review_df['score'].value_counts()[1]))\n",
    "print('The number of good reviews: {}'.format(strong_review_df['score'].value_counts()[5]))"
   ]
  },
  {
   "cell_type": "markdown",
   "id": "ccfffe26",
   "metadata": {},
   "source": [
    "**So we have our Dataframe with our good and bad reviews. The content column will our our X. The score is then our target y.**"
   ]
  },
  {
   "cell_type": "code",
   "execution_count": 11,
   "id": "f831d3fd",
   "metadata": {},
   "outputs": [],
   "source": [
    "text_data, y_data = strong_review_df['content'], strong_review_df['score']"
   ]
  },
  {
   "cell_type": "code",
   "execution_count": 12,
   "id": "6e6a66cd",
   "metadata": {},
   "outputs": [],
   "source": [
    "from sklearn.model_selection import train_test_split\n",
    "\n",
    "text_train, text_test, y_train, y_test = train_test_split(text_data, y_data, test_size=0.25, random_state=42)"
   ]
  },
  {
   "cell_type": "markdown",
   "id": "5abcc437",
   "metadata": {},
   "source": [
    "**We are going to use CountVectorizer to transform our text data into a sparse matrix before we apply our algorithm. Additionally, we are going to discount a number of stop words**"
   ]
  },
  {
   "cell_type": "code",
   "execution_count": 13,
   "id": "9824c8c5",
   "metadata": {},
   "outputs": [],
   "source": [
    "from sklearn.feature_extraction.text import CountVectorizer\n",
    "\n",
    "vect = CountVectorizer(min_df=5, stop_words='english').fit(text_train.astype('str'))"
   ]
  },
  {
   "cell_type": "code",
   "execution_count": 14,
   "id": "ad1ed0d0",
   "metadata": {},
   "outputs": [],
   "source": [
    "X_train = vect.transform(text_train.astype('str'))"
   ]
  },
  {
   "cell_type": "markdown",
   "id": "b2178300",
   "metadata": {},
   "source": [
    "**We now have our sparse matrix which we will use for training. This gridsearch will find the best C param**"
   ]
  },
  {
   "cell_type": "code",
   "execution_count": 15,
   "id": "49ad6aef",
   "metadata": {},
   "outputs": [
    {
     "data": {
      "text/html": [
       "<style>#sk-container-id-1 {color: black;background-color: white;}#sk-container-id-1 pre{padding: 0;}#sk-container-id-1 div.sk-toggleable {background-color: white;}#sk-container-id-1 label.sk-toggleable__label {cursor: pointer;display: block;width: 100%;margin-bottom: 0;padding: 0.3em;box-sizing: border-box;text-align: center;}#sk-container-id-1 label.sk-toggleable__label-arrow:before {content: \"▸\";float: left;margin-right: 0.25em;color: #696969;}#sk-container-id-1 label.sk-toggleable__label-arrow:hover:before {color: black;}#sk-container-id-1 div.sk-estimator:hover label.sk-toggleable__label-arrow:before {color: black;}#sk-container-id-1 div.sk-toggleable__content {max-height: 0;max-width: 0;overflow: hidden;text-align: left;background-color: #f0f8ff;}#sk-container-id-1 div.sk-toggleable__content pre {margin: 0.2em;color: black;border-radius: 0.25em;background-color: #f0f8ff;}#sk-container-id-1 input.sk-toggleable__control:checked~div.sk-toggleable__content {max-height: 200px;max-width: 100%;overflow: auto;}#sk-container-id-1 input.sk-toggleable__control:checked~label.sk-toggleable__label-arrow:before {content: \"▾\";}#sk-container-id-1 div.sk-estimator input.sk-toggleable__control:checked~label.sk-toggleable__label {background-color: #d4ebff;}#sk-container-id-1 div.sk-label input.sk-toggleable__control:checked~label.sk-toggleable__label {background-color: #d4ebff;}#sk-container-id-1 input.sk-hidden--visually {border: 0;clip: rect(1px 1px 1px 1px);clip: rect(1px, 1px, 1px, 1px);height: 1px;margin: -1px;overflow: hidden;padding: 0;position: absolute;width: 1px;}#sk-container-id-1 div.sk-estimator {font-family: monospace;background-color: #f0f8ff;border: 1px dotted black;border-radius: 0.25em;box-sizing: border-box;margin-bottom: 0.5em;}#sk-container-id-1 div.sk-estimator:hover {background-color: #d4ebff;}#sk-container-id-1 div.sk-parallel-item::after {content: \"\";width: 100%;border-bottom: 1px solid gray;flex-grow: 1;}#sk-container-id-1 div.sk-label:hover label.sk-toggleable__label {background-color: #d4ebff;}#sk-container-id-1 div.sk-serial::before {content: \"\";position: absolute;border-left: 1px solid gray;box-sizing: border-box;top: 0;bottom: 0;left: 50%;z-index: 0;}#sk-container-id-1 div.sk-serial {display: flex;flex-direction: column;align-items: center;background-color: white;padding-right: 0.2em;padding-left: 0.2em;position: relative;}#sk-container-id-1 div.sk-item {position: relative;z-index: 1;}#sk-container-id-1 div.sk-parallel {display: flex;align-items: stretch;justify-content: center;background-color: white;position: relative;}#sk-container-id-1 div.sk-item::before, #sk-container-id-1 div.sk-parallel-item::before {content: \"\";position: absolute;border-left: 1px solid gray;box-sizing: border-box;top: 0;bottom: 0;left: 50%;z-index: -1;}#sk-container-id-1 div.sk-parallel-item {display: flex;flex-direction: column;z-index: 1;position: relative;background-color: white;}#sk-container-id-1 div.sk-parallel-item:first-child::after {align-self: flex-end;width: 50%;}#sk-container-id-1 div.sk-parallel-item:last-child::after {align-self: flex-start;width: 50%;}#sk-container-id-1 div.sk-parallel-item:only-child::after {width: 0;}#sk-container-id-1 div.sk-dashed-wrapped {border: 1px dashed gray;margin: 0 0.4em 0.5em 0.4em;box-sizing: border-box;padding-bottom: 0.4em;background-color: white;}#sk-container-id-1 div.sk-label label {font-family: monospace;font-weight: bold;display: inline-block;line-height: 1.2em;}#sk-container-id-1 div.sk-label-container {text-align: center;}#sk-container-id-1 div.sk-container {/* jupyter's `normalize.less` sets `[hidden] { display: none; }` but bootstrap.min.css set `[hidden] { display: none !important; }` so we also need the `!important` here to be able to override the default hidden behavior on the sphinx rendered scikit-learn.org. See: https://github.com/scikit-learn/scikit-learn/issues/21755 */display: inline-block !important;position: relative;}#sk-container-id-1 div.sk-text-repr-fallback {display: none;}</style><div id=\"sk-container-id-1\" class=\"sk-top-container\"><div class=\"sk-text-repr-fallback\"><pre>GridSearchCV(cv=5, estimator=LogisticRegression(max_iter=1000, n_jobs=-1),\n",
       "             param_grid={&#x27;C&#x27;: [0.001, 0.01, 0.1, 1, 10]})</pre><b>In a Jupyter environment, please rerun this cell to show the HTML representation or trust the notebook. <br />On GitHub, the HTML representation is unable to render, please try loading this page with nbviewer.org.</b></div><div class=\"sk-container\" hidden><div class=\"sk-item sk-dashed-wrapped\"><div class=\"sk-label-container\"><div class=\"sk-label sk-toggleable\"><input class=\"sk-toggleable__control sk-hidden--visually\" id=\"sk-estimator-id-1\" type=\"checkbox\" ><label for=\"sk-estimator-id-1\" class=\"sk-toggleable__label sk-toggleable__label-arrow\">GridSearchCV</label><div class=\"sk-toggleable__content\"><pre>GridSearchCV(cv=5, estimator=LogisticRegression(max_iter=1000, n_jobs=-1),\n",
       "             param_grid={&#x27;C&#x27;: [0.001, 0.01, 0.1, 1, 10]})</pre></div></div></div><div class=\"sk-parallel\"><div class=\"sk-parallel-item\"><div class=\"sk-item\"><div class=\"sk-label-container\"><div class=\"sk-label sk-toggleable\"><input class=\"sk-toggleable__control sk-hidden--visually\" id=\"sk-estimator-id-2\" type=\"checkbox\" ><label for=\"sk-estimator-id-2\" class=\"sk-toggleable__label sk-toggleable__label-arrow\">estimator: LogisticRegression</label><div class=\"sk-toggleable__content\"><pre>LogisticRegression(max_iter=1000, n_jobs=-1)</pre></div></div></div><div class=\"sk-serial\"><div class=\"sk-item\"><div class=\"sk-estimator sk-toggleable\"><input class=\"sk-toggleable__control sk-hidden--visually\" id=\"sk-estimator-id-3\" type=\"checkbox\" ><label for=\"sk-estimator-id-3\" class=\"sk-toggleable__label sk-toggleable__label-arrow\">LogisticRegression</label><div class=\"sk-toggleable__content\"><pre>LogisticRegression(max_iter=1000, n_jobs=-1)</pre></div></div></div></div></div></div></div></div></div></div>"
      ],
      "text/plain": [
       "GridSearchCV(cv=5, estimator=LogisticRegression(max_iter=1000, n_jobs=-1),\n",
       "             param_grid={'C': [0.001, 0.01, 0.1, 1, 10]})"
      ]
     },
     "execution_count": 15,
     "metadata": {},
     "output_type": "execute_result"
    }
   ],
   "source": [
    "from sklearn.model_selection import GridSearchCV\n",
    "from sklearn.linear_model import LogisticRegression\n",
    "\n",
    "param_grid = {'C': [0.001, 0.01, 0.1, 1, 10]}\n",
    "\n",
    "grid = GridSearchCV(LogisticRegression(max_iter=1000, n_jobs=-1), param_grid, cv=5)\n",
    "grid.fit(X_train, y_train)"
   ]
  },
  {
   "cell_type": "code",
   "execution_count": 16,
   "id": "75c95abe",
   "metadata": {},
   "outputs": [
    {
     "name": "stdout",
     "output_type": "stream",
     "text": [
      "best CV score 0.92\n",
      "best params {'C': 1}\n"
     ]
    }
   ],
   "source": [
    "print('best CV score {:.2f}'.format(grid.best_score_))\n",
    "print('best params {}'.format(grid.best_params_))"
   ]
  },
  {
   "cell_type": "markdown",
   "id": "370af32d",
   "metadata": {},
   "source": [
    "**So .92 CV score using C=1 is not bad**\n",
    "\n",
    "**What other approaches can we use? Rescaling features using Tfidf could be interesting.**"
   ]
  },
  {
   "cell_type": "code",
   "execution_count": 17,
   "id": "b045152c",
   "metadata": {},
   "outputs": [
    {
     "name": "stdout",
     "output_type": "stream",
     "text": [
      "Best cross-validation score: 0.93\n"
     ]
    }
   ],
   "source": [
    "from sklearn.feature_extraction.text import TfidfVectorizer\n",
    "from sklearn.pipeline import make_pipeline\n",
    "\n",
    "pipe = make_pipeline(TfidfVectorizer(min_df=5, norm=None),\n",
    "                     LogisticRegression(max_iter=1000, n_jobs=-1))\n",
    "param_grid = {'logisticregression__C': [0.001, 0.01, 0.1, 1, 10]}\n",
    "\n",
    "grid = GridSearchCV(pipe, param_grid, cv=5)\n",
    "grid.fit(text_train.astype('str'), y_train)\n",
    "print(\"Best cross-validation score: {:.2f}\".format(grid.best_score_))"
   ]
  },
  {
   "cell_type": "markdown",
   "id": "337e6d97",
   "metadata": {},
   "source": [
    "**We can see what kind of words are being picked out by our algorithm. What are the most important words in the reviews?**"
   ]
  },
  {
   "cell_type": "code",
   "execution_count": 18,
   "id": "5cfeff20",
   "metadata": {},
   "outputs": [],
   "source": [
    "vectorizer = grid.best_estimator_.named_steps['tfidfvectorizer']\n",
    "\n",
    "X_train = vectorizer.transform(text_train.astype('str'))\n",
    "\n",
    "max_value = X_train.max(axis=0).toarray().ravel()\n",
    "sorted_by_tfidf = max_value.argsort()\n",
    "\n",
    "feature_names = np.array(vectorizer.get_feature_names_out())"
   ]
  },
  {
   "cell_type": "code",
   "execution_count": 19,
   "id": "cfb03309",
   "metadata": {},
   "outputs": [
    {
     "name": "stdout",
     "output_type": "stream",
     "text": [
      "features with highest tfidf: \n",
      "['uninstalling' 'recently' 'rest' 'mostly' 'alone' 'deal' 'wonder'\n",
      " 'fantastic' 'unusable' 'unfortunately' 'themselves' 'filled' 'glitches'\n",
      " 'legit' 'follow' 'forward' 'sort' 'funny' 'recent' 'stick']\n",
      "features with lowest tfidf: \n",
      "['virtual' 'bee' 'that' 'men' 'suck' 'you' 'ko' 'buy' 'blah' 'will' 'nahi'\n",
      " 'the' 'em' 'la' 'bla' 'eu' 'hai' 'black' 'gt' 'ya']\n"
     ]
    }
   ],
   "source": [
    "print('features with highest tfidf: \\n{}'.format(feature_names[sorted_by_tfidf[:20]]))\n",
    "print('features with lowest tfidf: \\n{}'.format(feature_names[sorted_by_tfidf[-20:]]))"
   ]
  },
  {
   "cell_type": "markdown",
   "id": "0eb3bd2c",
   "metadata": {},
   "source": [
    "**The function below will help us visualize the weights of each of the words**"
   ]
  },
  {
   "cell_type": "code",
   "execution_count": 20,
   "id": "40788c53",
   "metadata": {},
   "outputs": [],
   "source": [
    "def visualize_coefficients(coefficients, feature_names, n_top_features=25):\n",
    "    coefficients = coefficients.squeeze()\n",
    "    if coefficients.ndim > 1:\n",
    "        \n",
    "        raise ValueError(\"coeffients must be 1d array or column vector, got\"\n",
    "                         \" shape {}\".format(coefficients.shape))\n",
    "    coefficients = coefficients.ravel()\n",
    "\n",
    "    if len(coefficients) != len(feature_names):\n",
    "        raise ValueError(\"Number of coefficients {} doesn't match number of\"\n",
    "                         \"feature names {}.\".format(len(coefficients),\n",
    "                                                    len(feature_names)))\n",
    "    \n",
    "    coef = coefficients.ravel()\n",
    "    positive_coefficients = np.argsort(coef)[-n_top_features:]\n",
    "    negative_coefficients = np.argsort(coef)[:n_top_features]\n",
    "    interesting_coefficients = np.hstack([negative_coefficients,\n",
    "                                          positive_coefficients])\n",
    "    \n",
    "    plt.figure(figsize=(15, 5))\n",
    "    colors = ['red' if c < 0 else 'blue'\n",
    "              for c in coef[interesting_coefficients]]\n",
    "    plt.bar(np.arange(2 * n_top_features), coef[interesting_coefficients],\n",
    "            color=colors)\n",
    "    feature_names = np.array(feature_names)\n",
    "    plt.subplots_adjust(bottom=0.3)\n",
    "    plt.xticks(np.arange(1, 1 + 2 * n_top_features),\n",
    "               feature_names[interesting_coefficients], rotation=60,\n",
    "               ha=\"right\")\n",
    "    plt.ylabel(\"Coefficient magnitude\")\n",
    "    plt.xlabel(\"Feature\")"
   ]
  },
  {
   "cell_type": "code",
   "execution_count": 21,
   "id": "3604839f",
   "metadata": {},
   "outputs": [
    {
     "data": {
      "image/png": "[encoded data removed]",
      "text/plain": [
       "<Figure size 1080x360 with 1 Axes>"
      ]
     },
     "metadata": {
      "needs_background": "light"
     },
     "output_type": "display_data"
    }
   ],
   "source": [
    "visualize_coefficients(\n",
    "    grid.best_estimator_.named_steps['logisticregression'].coef_,\n",
    "    feature_names, n_top_features=40)"
   ]
  },
  {
   "cell_type": "markdown",
   "id": "b0c3a359",
   "metadata": {},
   "source": [
    "**So far, we have only looked at individual words, by using n-grams, we might be able to find some more interesting insights**"
   ]
  },
  {
   "cell_type": "code",
   "execution_count": 22,
   "id": "63ebf33d",
   "metadata": {},
   "outputs": [],
   "source": [
    "pipe = make_pipeline(TfidfVectorizer(min_df=5), LogisticRegression(max_iter=1000, n_jobs=-1))\n",
    "\n",
    "param_grid = {'logisticregression__C': [0.001, 0.01, 0.1, 1, 10],\n",
    "             'tfidfvectorizer__ngram_range': [(1,1), (1,2), (1,3)]}\n",
    "\n",
    "grid = GridSearchCV(pipe, param_grid, cv=5)\n",
    "grid.fit(text_train.astype('str'), y_train)\n",
    "\n",
    "vect = grid.best_estimator_.named_steps['tfidfvectorizer']\n",
    "feature_names = np.array(vect.get_feature_names_out())"
   ]
  },
  {
   "cell_type": "code",
   "execution_count": 23,
   "id": "1f5cf727",
   "metadata": {},
   "outputs": [
    {
     "name": "stdout",
     "output_type": "stream",
     "text": [
      "Best CV score: 0.94\n",
      "best_params: \n",
      "{'logisticregression__C': 10, 'tfidfvectorizer__ngram_range': (1, 3)}\n"
     ]
    }
   ],
   "source": [
    "print('Best CV score: {:.2f}'.format(grid.best_score_))\n",
    "print('best_params: \\n{}'.format(grid.best_params_))"
   ]
  },
  {
   "cell_type": "code",
   "execution_count": 24,
   "id": "8fe2d57f",
   "metadata": {},
   "outputs": [
    {
     "data": {
      "image/png": "[encoded data removed]",
      "text/plain": [
       "<Figure size 1080x360 with 1 Axes>"
      ]
     },
     "metadata": {
      "needs_background": "light"
     },
     "output_type": "display_data"
    }
   ],
   "source": [
    "coef = grid.best_estimator_.named_steps['logisticregression'].coef_\n",
    "\n",
    "visualize_coefficients(coef, feature_names, n_top_features=40)"
   ]
  },
  {
   "cell_type": "markdown",
   "id": "12354cd3",
   "metadata": {},
   "source": [
    "**Interesting that in the positive reviews we can see dating app specific phrases appearing. Eg. \"no bots\", \"good app\", \"not fake\". Also \"laid\" LOL**\n",
    "\n",
    "**Also funny that one of the worst terms is \"Facebook\". I think this might merit checking, since it's not immediately apparent to me why this would carry such a negative weight**"
   ]
  },
  {
   "cell_type": "code",
   "execution_count": 25,
   "id": "4623cda4",
   "metadata": {},
   "outputs": [
    {
     "data": {
      "text/html": [
       "<div>\n",
       "<style scoped>\n",
       "    .dataframe tbody tr th:only-of-type {\n",
       "        vertical-align: middle;\n",
       "    }\n",
       "\n",
       "    .dataframe tbody tr th {\n",
       "        vertical-align: top;\n",
       "    }\n",
       "\n",
       "    .dataframe thead th {\n",
       "        text-align: right;\n",
       "    }\n",
       "</style>\n",
       "<table border=\"1\" class=\"dataframe\">\n",
       "  <thead>\n",
       "    <tr style=\"text-align: right;\">\n",
       "      <th></th>\n",
       "      <th>content</th>\n",
       "      <th>score</th>\n",
       "    </tr>\n",
       "  </thead>\n",
       "  <tbody>\n",
       "    <tr>\n",
       "      <th>2087</th>\n",
       "      <td>Worst app ever, paying for premium but get ban...</td>\n",
       "      <td>1</td>\n",
       "    </tr>\n",
       "    <tr>\n",
       "      <th>2187</th>\n",
       "      <td>Can't login in if you change phone numbers app...</td>\n",
       "      <td>1</td>\n",
       "    </tr>\n",
       "    <tr>\n",
       "      <th>2188</th>\n",
       "      <td>Totally useless app with fake profiles. Instag...</td>\n",
       "      <td>1</td>\n",
       "    </tr>\n",
       "    <tr>\n",
       "      <th>2278</th>\n",
       "      <td>My account was deleted for no apparent reason ...</td>\n",
       "      <td>1</td>\n",
       "    </tr>\n",
       "    <tr>\n",
       "      <th>2473</th>\n",
       "      <td>I'm not giving my phone number and I do not us...</td>\n",
       "      <td>1</td>\n",
       "    </tr>\n",
       "    <tr>\n",
       "      <th>...</th>\n",
       "      <td>...</td>\n",
       "      <td>...</td>\n",
       "    </tr>\n",
       "    <tr>\n",
       "      <th>112682</th>\n",
       "      <td>Need facebook to use im not on Facebook</td>\n",
       "      <td>1</td>\n",
       "    </tr>\n",
       "    <tr>\n",
       "      <th>112704</th>\n",
       "      <td>Requires facebook</td>\n",
       "      <td>1</td>\n",
       "    </tr>\n",
       "    <tr>\n",
       "      <th>112826</th>\n",
       "      <td>Not everyone has or wants to have a facebook. ...</td>\n",
       "      <td>1</td>\n",
       "    </tr>\n",
       "    <tr>\n",
       "      <th>112894</th>\n",
       "      <td>I don't have a facebook. Should be able to mak...</td>\n",
       "      <td>1</td>\n",
       "    </tr>\n",
       "    <tr>\n",
       "      <th>112971</th>\n",
       "      <td>installed and uninstalled within 15 seconds......</td>\n",
       "      <td>1</td>\n",
       "    </tr>\n",
       "  </tbody>\n",
       "</table>\n",
       "<p>432 rows × 2 columns</p>\n",
       "</div>"
      ],
      "text/plain": [
       "                                                  content  score\n",
       "2087    Worst app ever, paying for premium but get ban...      1\n",
       "2187    Can't login in if you change phone numbers app...      1\n",
       "2188    Totally useless app with fake profiles. Instag...      1\n",
       "2278    My account was deleted for no apparent reason ...      1\n",
       "2473    I'm not giving my phone number and I do not us...      1\n",
       "...                                                   ...    ...\n",
       "112682            Need facebook to use im not on Facebook      1\n",
       "112704                                  Requires facebook      1\n",
       "112826  Not everyone has or wants to have a facebook. ...      1\n",
       "112894  I don't have a facebook. Should be able to mak...      1\n",
       "112971  installed and uninstalled within 15 seconds......      1\n",
       "\n",
       "[432 rows x 2 columns]"
      ]
     },
     "execution_count": 25,
     "metadata": {},
     "output_type": "execute_result"
    }
   ],
   "source": [
    "facebook_df = strong_review_df[strong_review_df['content'].str.contains('facebook', na=False)]\n",
    "facebook_df"
   ]
  },
  {
   "cell_type": "markdown",
   "id": "9dc2aa23",
   "metadata": {},
   "source": [
    "**It seems that people are angry that you have to use facebook to log in**\n",
    "\n",
    "***The more you know...***\n",
    "\n",
    "**As a final step, I'd like to see the most positive reviews for bumble based on sentiment analysis (and the worst too.. sorry to whoever wrote the latter).**"
   ]
  },
  {
   "cell_type": "code",
   "execution_count": 30,
   "id": "6332d988",
   "metadata": {},
   "outputs": [],
   "source": [
    "import nltk\n",
    "from nltk.sentiment.vader import SentimentIntensityAnalyzer\n",
    "\n",
    "sent = SentimentIntensityAnalyzer()\n",
    "polarity = [round(sent.polarity_scores(i)['compound'], 2) for i in strong_review_df['content'].astype('str')]"
   ]
  },
  {
   "cell_type": "code",
   "execution_count": 31,
   "id": "243d3dec",
   "metadata": {},
   "outputs": [
    {
     "data": {
      "text/html": [
       "<div>\n",
       "<style scoped>\n",
       "    .dataframe tbody tr th:only-of-type {\n",
       "        vertical-align: middle;\n",
       "    }\n",
       "\n",
       "    .dataframe tbody tr th {\n",
       "        vertical-align: top;\n",
       "    }\n",
       "\n",
       "    .dataframe thead th {\n",
       "        text-align: right;\n",
       "    }\n",
       "</style>\n",
       "<table border=\"1\" class=\"dataframe\">\n",
       "  <thead>\n",
       "    <tr style=\"text-align: right;\">\n",
       "      <th></th>\n",
       "      <th>content</th>\n",
       "      <th>score</th>\n",
       "      <th>polarity</th>\n",
       "    </tr>\n",
       "  </thead>\n",
       "  <tbody>\n",
       "    <tr>\n",
       "      <th>0</th>\n",
       "      <td>Horrible experience, stuck on photo verificati...</td>\n",
       "      <td>1</td>\n",
       "      <td>-0.77</td>\n",
       "    </tr>\n",
       "    <tr>\n",
       "      <th>1</th>\n",
       "      <td>Shows me nothing but guys when im straight. Yo...</td>\n",
       "      <td>1</td>\n",
       "      <td>0.33</td>\n",
       "    </tr>\n",
       "    <tr>\n",
       "      <th>2</th>\n",
       "      <td>so super</td>\n",
       "      <td>5</td>\n",
       "      <td>0.64</td>\n",
       "    </tr>\n",
       "    <tr>\n",
       "      <th>3</th>\n",
       "      <td>Heard great things about this app. Unfortunate...</td>\n",
       "      <td>1</td>\n",
       "      <td>0.77</td>\n",
       "    </tr>\n",
       "    <tr>\n",
       "      <th>7</th>\n",
       "      <td>I waa charged but I cancelled weeks ago!</td>\n",
       "      <td>1</td>\n",
       "      <td>-0.49</td>\n",
       "    </tr>\n",
       "  </tbody>\n",
       "</table>\n",
       "</div>"
      ],
      "text/plain": [
       "                                             content  score  polarity\n",
       "0  Horrible experience, stuck on photo verificati...      1     -0.77\n",
       "1  Shows me nothing but guys when im straight. Yo...      1      0.33\n",
       "2                                           so super      5      0.64\n",
       "3  Heard great things about this app. Unfortunate...      1      0.77\n",
       "7           I waa charged but I cancelled weeks ago!      1     -0.49"
      ]
     },
     "execution_count": 31,
     "metadata": {},
     "output_type": "execute_result"
    }
   ],
   "source": [
    "best_and_worst_df = strong_review_df\n",
    "\n",
    "best_and_worst_df['polarity'] = polarity\n",
    "best_and_worst_df.head()"
   ]
  },
  {
   "cell_type": "code",
   "execution_count": 32,
   "id": "d151b32d",
   "metadata": {},
   "outputs": [],
   "source": [
    "best_and_worst_df = best_and_worst_df.sort_values(by=['polarity'])"
   ]
  },
  {
   "cell_type": "markdown",
   "id": "561637d1",
   "metadata": {},
   "source": [
    "**Our top 5 worst reviews of this App**"
   ]
  },
  {
   "cell_type": "code",
   "execution_count": 33,
   "id": "b60d0155",
   "metadata": {},
   "outputs": [
    {
     "data": {
      "text/html": [
       "<div>\n",
       "<style scoped>\n",
       "    .dataframe tbody tr th:only-of-type {\n",
       "        vertical-align: middle;\n",
       "    }\n",
       "\n",
       "    .dataframe tbody tr th {\n",
       "        vertical-align: top;\n",
       "    }\n",
       "\n",
       "    .dataframe thead th {\n",
       "        text-align: right;\n",
       "    }\n",
       "</style>\n",
       "<table border=\"1\" class=\"dataframe\">\n",
       "  <thead>\n",
       "    <tr style=\"text-align: right;\">\n",
       "      <th></th>\n",
       "      <th>content</th>\n",
       "      <th>score</th>\n",
       "      <th>polarity</th>\n",
       "    </tr>\n",
       "  </thead>\n",
       "  <tbody>\n",
       "    <tr>\n",
       "      <th>97423</th>\n",
       "      <td>I have never been treated more unfairly by anything or anyone in my life, and I wish I was being dramatic by saying that. Bumble decided to irrevocably ban me, without giving me an explanation or a courtesy e-mail.  When I inquired why I couldn't log in anymore was told \"you have been permanently banned and this decision was final because we received complaints and found enough evidence to ban you\" I looked over the guidelines (again) and found nothing to be in violation of. I had a link to my spotify account (which is not selling anything). The only thing I can think of is people complaining that I'm fake as I didn't authenticate myself which is mea culpa but if that was grounds to permanently ban me with not so much as a courtesy e-mail to warn me, than you are a sham app and shame on you. I haven't had a chance to communicate with anyone yet so there should be ZERO complaints for rudeness or anything.... Anyway, I'm confused and angry at the injustice imparted upon me. I have nothing nice to say about this app or your team quite frankly....your lag time getting back to my inquiry....not even a complaint but a bloody question, like 2 weeks later is ridiculous.  Just a little piece of advice, you should always give your members the benefit of the doubt....you know....innocent until proven guilty....and send an e-mail so that if they are in danger of something as drastic as an irrevocably permanent ban they may either ammend or defend what it is they're being accused of. #tinderftw tinder is so much better</td>\n",
       "      <td>1</td>\n",
       "      <td>-1.00</td>\n",
       "    </tr>\n",
       "    <tr>\n",
       "      <th>14463</th>\n",
       "      <td>Horrible app. They give bare minimum to claim its free everything is a push to make you pay. It's full of outdated inactive accounts and fake accounts. Used to be good but now it is very scammy.. If I could give 0 stars I would. EDIT after bumble's response to my review above: bumble's focus on my review is is only on suspicious accounts and reporting them. they ignore the rest of my review. no addressing bumble's scam nature, the outdated accounts, bumble's behavior and how the app has degraded into a dumpster fire over time. Just another dishonest company. 0 stars given. Bumble is Horrible. just in the couple days since my review the average review for bumble has dropped well over 1 star. whoever is in charge is driving the flaming garbage truck known as bumble off a ravine. really is a shame once it was a good app. now i'ts no different than match, meetme, or any of the other scam type dating apps. i had even paid for service last year and even after canceling per instructions they still renewed/charged me and took a while to get my money back. these days their daily likes you can give seem random one day you will get 10 likes for the whole day.. over 24 hrs later you've still \"reached your limit for the day\" the number of likes you can give seems very inconsistent and manipulative to get you to pay for a service that isn't worth it. my advice ... abandon ship.. stay away... never give em a penny.. learn from other's mistakes, from my experience they're dishonest. it's a scam. do research online on them before installing. just a little research will show the opinion they are a scam is common.</td>\n",
       "      <td>1</td>\n",
       "      <td>-1.00</td>\n",
       "    </tr>\n",
       "    <tr>\n",
       "      <th>3245</th>\n",
       "      <td>I recently joined dating after being on BFF. Suddenly, I have this issue where I'll match with someone and go to message them but when I send the message, I get an error saying \"something went wrong and they'll fix it ASAP\" but it gets rid of the match all together! Then tells me \"You just missed this one but there are plenty more in the hive\". I'm so angry and frustrated because I've lost multiple matches. Now im scared to message anyone at all in case I lose them. This never happened before.</td>\n",
       "      <td>1</td>\n",
       "      <td>-0.99</td>\n",
       "    </tr>\n",
       "    <tr>\n",
       "      <th>86048</th>\n",
       "      <td>Scam, fraud, illiegal charges. These are words that describe my experience with Bumble. I might have swiped a couple of times to message people or special message someone, but 2 years after I last even visited the app, I started to notice that small charges were on my bank account, spread out over long periods of time equaling over $325. When I contacted my bank, to dispute the charges, it was already too late to dispute some of the charges because they happened so long ago. The charges do not appear as Bumble on my bank statement, but \"social payments sanfran\" or something similar therefore, I thought that it was a babysitting app or venmo that I was paying for. Complete fraud, and I am not sure how federal regulators and law enforcement has not yet caught them. I cannot be the only one Bumble has stolen from. Horrible experience.</td>\n",
       "      <td>1</td>\n",
       "      <td>-0.99</td>\n",
       "    </tr>\n",
       "    <tr>\n",
       "      <th>88690</th>\n",
       "      <td>So I'm normally not a person to leave a review for anything, but I simply cant help myself in this case. This is one of the worst apps I've ever had the displeasure of using to meet people, and I am a people person so I know what's out there. For starters the layout is bad, the aesthetic feels cheep, but who cares about how it looks if it's a good app right? This is my problem with bumble, on bumble bff I am only shown people of the same gender as me, like seriously? What is this 1955?!? I'm I incapable of holding a plutonic relationship with another human being because they are female? The amount of disrespect that implies is atrocious, yet I switched to the dating part to see if the developer of the app aren't completely insane, females literally have to make the first move. Now it's not as bad as the bubmblebff part (mind you bumblebff is such a stupid name) because they tell you this on the app store with \"females always make the first move\" honestly what a bad idea it really shows you the mindset these developers have. This is an app obviously targeted to a generation this shouldn't bother, another thing the app profile settings are very \"boxy\" they try and force you to pick only one thing, for example under pets you have options like \"dog(s), cat(s), and other animals, with the final option just being \"lots.\" Now this wouldn't normally be a problem but your forced to only pick one, what if I have a cat and a dog, that's only 2 pets, who would consider that alot? To make it worse all options on your profile are riddled with examples like these. No reasonable person can or should be boxed into the obviously stereotypical lives these developers think everyone lives. To make it worse I took their survey to \"help them serve me better\" and there was no part were I could leave a message it was just cluttered with same frustrating lazy issues, asking me how I heard of bumble but not giving me the staple option of \"other.\" Guess what? I didn't hear about bumble through any of the answers they would let me choose from. Than the survey that's supposed to help improve my experience turns into a questionnaire about how I celebrate Thanksgiving, not that theres anything wrong with that, its just a whole different survey, just make a whole different survey!!! However I don't like leaving things on a sour note, so I will mention the one thing I can say earns them the one star rating (without it they'd be at a accurate -1 stars) and that would be \"bumblebizz\" the networking part of bumble, I can definetly see how the app can help you connect and network. To sum it up bumble is an app I would recommend to no one.</td>\n",
       "      <td>1</td>\n",
       "      <td>-0.99</td>\n",
       "    </tr>\n",
       "  </tbody>\n",
       "</table>\n",
       "</div>"
      ],
      "text/plain": [
       "                                                                                                                                                                                                                                                                                                                                                                                                                                                                                                                                                                                                                                                                                                                                                                                                                                                                                                                                                                                                                                                                                                                                                                                                                                                                                                                                                                                                                                                                                                                                                                                                                                                                                                                                                                                                                                                                                                                                                                                                                                                                                                                                                                                                                                                                                                                                                                                                                                                                                                                                                                                                                                                                                                                                                        content  \\\n",
       "97423                                                                                                                                                                                                                                                                                                                                                                                                                                                                                                                                                                                                                                                                                                                                                                                                                                                                                                                                                                                                                                                                                                                                                               I have never been treated more unfairly by anything or anyone in my life, and I wish I was being dramatic by saying that. Bumble decided to irrevocably ban me, without giving me an explanation or a courtesy e-mail.  When I inquired why I couldn't log in anymore was told \"you have been permanently banned and this decision was final because we received complaints and found enough evidence to ban you\" I looked over the guidelines (again) and found nothing to be in violation of. I had a link to my spotify account (which is not selling anything). The only thing I can think of is people complaining that I'm fake as I didn't authenticate myself which is mea culpa but if that was grounds to permanently ban me with not so much as a courtesy e-mail to warn me, than you are a sham app and shame on you. I haven't had a chance to communicate with anyone yet so there should be ZERO complaints for rudeness or anything.... Anyway, I'm confused and angry at the injustice imparted upon me. I have nothing nice to say about this app or your team quite frankly....your lag time getting back to my inquiry....not even a complaint but a bloody question, like 2 weeks later is ridiculous.  Just a little piece of advice, you should always give your members the benefit of the doubt....you know....innocent until proven guilty....and send an e-mail so that if they are in danger of something as drastic as an irrevocably permanent ban they may either ammend or defend what it is they're being accused of. #tinderftw tinder is so much better   \n",
       "14463                                                                                                                                                                                                                                                                                                                                                                                                                                                                                                                                                                                                                                                                                                                                                                                                                                                                                                                                                                                                                                                                    Horrible app. They give bare minimum to claim its free everything is a push to make you pay. It's full of outdated inactive accounts and fake accounts. Used to be good but now it is very scammy.. If I could give 0 stars I would. EDIT after bumble's response to my review above: bumble's focus on my review is is only on suspicious accounts and reporting them. they ignore the rest of my review. no addressing bumble's scam nature, the outdated accounts, bumble's behavior and how the app has degraded into a dumpster fire over time. Just another dishonest company. 0 stars given. Bumble is Horrible. just in the couple days since my review the average review for bumble has dropped well over 1 star. whoever is in charge is driving the flaming garbage truck known as bumble off a ravine. really is a shame once it was a good app. now i'ts no different than match, meetme, or any of the other scam type dating apps. i had even paid for service last year and even after canceling per instructions they still renewed/charged me and took a while to get my money back. these days their daily likes you can give seem random one day you will get 10 likes for the whole day.. over 24 hrs later you've still \"reached your limit for the day\" the number of likes you can give seems very inconsistent and manipulative to get you to pay for a service that isn't worth it. my advice ... abandon ship.. stay away... never give em a penny.. learn from other's mistakes, from my experience they're dishonest. it's a scam. do research online on them before installing. just a little research will show the opinion they are a scam is common.   \n",
       "3245                                                                                                                                                                                                                                                                                                                                                                                                                                                                                                                                                                                                                                                                                                                                                                                                                                                                                                                                                                                                                                                                                                                                                                                                                                                                                                                                                                                                                                                                                                                                                                                                                                                                                                                                                                                                                                                                                                                                                                                                                                                                                                                                                                                                                                         I recently joined dating after being on BFF. Suddenly, I have this issue where I'll match with someone and go to message them but when I send the message, I get an error saying \"something went wrong and they'll fix it ASAP\" but it gets rid of the match all together! Then tells me \"You just missed this one but there are plenty more in the hive\". I'm so angry and frustrated because I've lost multiple matches. Now im scared to message anyone at all in case I lose them. This never happened before.   \n",
       "86048                                                                                                                                                                                                                                                                                                                                                                                                                                                                                                                                                                                                                                                                                                                                                                                                                                                                                                                                                                                                                                                                                                                                                                                                                                                                                                                                                                                                                                                                                                                                                                                                                                                                                                                                                                                                                                                                               Scam, fraud, illiegal charges. These are words that describe my experience with Bumble. I might have swiped a couple of times to message people or special message someone, but 2 years after I last even visited the app, I started to notice that small charges were on my bank account, spread out over long periods of time equaling over $325. When I contacted my bank, to dispute the charges, it was already too late to dispute some of the charges because they happened so long ago. The charges do not appear as Bumble on my bank statement, but \"social payments sanfran\" or something similar therefore, I thought that it was a babysitting app or venmo that I was paying for. Complete fraud, and I am not sure how federal regulators and law enforcement has not yet caught them. I cannot be the only one Bumble has stolen from. Horrible experience.   \n",
       "88690  So I'm normally not a person to leave a review for anything, but I simply cant help myself in this case. This is one of the worst apps I've ever had the displeasure of using to meet people, and I am a people person so I know what's out there. For starters the layout is bad, the aesthetic feels cheep, but who cares about how it looks if it's a good app right? This is my problem with bumble, on bumble bff I am only shown people of the same gender as me, like seriously? What is this 1955?!? I'm I incapable of holding a plutonic relationship with another human being because they are female? The amount of disrespect that implies is atrocious, yet I switched to the dating part to see if the developer of the app aren't completely insane, females literally have to make the first move. Now it's not as bad as the bubmblebff part (mind you bumblebff is such a stupid name) because they tell you this on the app store with \"females always make the first move\" honestly what a bad idea it really shows you the mindset these developers have. This is an app obviously targeted to a generation this shouldn't bother, another thing the app profile settings are very \"boxy\" they try and force you to pick only one thing, for example under pets you have options like \"dog(s), cat(s), and other animals, with the final option just being \"lots.\" Now this wouldn't normally be a problem but your forced to only pick one, what if I have a cat and a dog, that's only 2 pets, who would consider that alot? To make it worse all options on your profile are riddled with examples like these. No reasonable person can or should be boxed into the obviously stereotypical lives these developers think everyone lives. To make it worse I took their survey to \"help them serve me better\" and there was no part were I could leave a message it was just cluttered with same frustrating lazy issues, asking me how I heard of bumble but not giving me the staple option of \"other.\" Guess what? I didn't hear about bumble through any of the answers they would let me choose from. Than the survey that's supposed to help improve my experience turns into a questionnaire about how I celebrate Thanksgiving, not that theres anything wrong with that, its just a whole different survey, just make a whole different survey!!! However I don't like leaving things on a sour note, so I will mention the one thing I can say earns them the one star rating (without it they'd be at a accurate -1 stars) and that would be \"bumblebizz\" the networking part of bumble, I can definetly see how the app can help you connect and network. To sum it up bumble is an app I would recommend to no one.   \n",
       "\n",
       "       score  polarity  \n",
       "97423      1     -1.00  \n",
       "14463      1     -1.00  \n",
       "3245       1     -0.99  \n",
       "86048      1     -0.99  \n",
       "88690      1     -0.99  "
      ]
     },
     "execution_count": 33,
     "metadata": {},
     "output_type": "execute_result"
    }
   ],
   "source": [
    "pd.set_option('display.max_colwidth', None)\n",
    "\n",
    "best_and_worst_df.head()"
   ]
  },
  {
   "cell_type": "markdown",
   "id": "d9c40f17",
   "metadata": {},
   "source": [
    "**There sure are some angry people out there. To end on a happy note, the top 5 best reviews**"
   ]
  },
  {
   "cell_type": "code",
   "execution_count": 34,
   "id": "cc99f8ce",
   "metadata": {},
   "outputs": [
    {
     "data": {
      "text/html": [
       "<div>\n",
       "<style scoped>\n",
       "    .dataframe tbody tr th:only-of-type {\n",
       "        vertical-align: middle;\n",
       "    }\n",
       "\n",
       "    .dataframe tbody tr th {\n",
       "        vertical-align: top;\n",
       "    }\n",
       "\n",
       "    .dataframe thead th {\n",
       "        text-align: right;\n",
       "    }\n",
       "</style>\n",
       "<table border=\"1\" class=\"dataframe\">\n",
       "  <thead>\n",
       "    <tr style=\"text-align: right;\">\n",
       "      <th></th>\n",
       "      <th>content</th>\n",
       "      <th>score</th>\n",
       "      <th>polarity</th>\n",
       "    </tr>\n",
       "  </thead>\n",
       "  <tbody>\n",
       "    <tr>\n",
       "      <th>36075</th>\n",
       "      <td>I'm more interested in what you like but I like eating I like having dinner and I like having a social talk I like to get to know the person that I would love to date I don't like getting beautiful heart I like to laugh sometimes joke I like to see the smile on other people so tell me some of the things about you the most interesting things and night date. I like dressing up and jeans I like to be comfortable about yourself relax not hang out too tight with a little loose That's My style I hope</td>\n",
       "      <td>5</td>\n",
       "      <td>1.0</td>\n",
       "    </tr>\n",
       "    <tr>\n",
       "      <th>53632</th>\n",
       "      <td>I'm surprised but happy, I honestly wasn't looking for a relationship, I'll admit I was looking for a friend with benefits but I met my boyfriend and even liked him so much that I moved to San Diego with him 😂 Now don't get me wrong, there were some duds, some dicks and ghosters, but this app is great. I even use the best friend function and made three best friends from it as well! I'll also admit that some of the girls just use you to get insta followers though lol</td>\n",
       "      <td>5</td>\n",
       "      <td>1.0</td>\n",
       "    </tr>\n",
       "    <tr>\n",
       "      <th>37729</th>\n",
       "      <td>awesome, can't wait to meet someone for me but so far so good.Thanks alot especially these times..Thanks so much Bumble and the amazing woman who brought hers from india.. Love those beautiful dark hair dark eyed pretty sweet eomen.. so taking it slow but hope to meet a great one out there..well all women are great but one for me... ;). sassy classy sexy types on here.. muah</td>\n",
       "      <td>5</td>\n",
       "      <td>1.0</td>\n",
       "    </tr>\n",
       "    <tr>\n",
       "      <th>86064</th>\n",
       "      <td>Great concept ladies have control. CON too manu other websites and i clearlu on this one but got REGISTERED TO.A POP UP ONE. LOVELY PEOPLE AND BEST ONLINE DATING SUTE I WANT PART OF!!!!! LITTLE LOVE [SEX] EXPERIENCE SO WISH TO DO BETTER IN WITHBRIGHT LADY!!! DISTACE FORT MYERS BEACH ZIP 19 MILES WAY DOWN MARCO ILAND !!!! APPRECIATE TRUE 5 OR 10 MILES FROM HOME NOT ZIP THAT IS A EASY FIX IN GAME SET UP !</td>\n",
       "      <td>5</td>\n",
       "      <td>1.0</td>\n",
       "    </tr>\n",
       "    <tr>\n",
       "      <th>104068</th>\n",
       "      <td>There are some attractive men but it's never been my experience that there was success when ladies have to \"lead\" the conversation.  Feels like we're \"pursuing\" them, which let's be honest ladies... it feels nice to feel wanted &amp; for them to pursue us.  So I will say my \"hello\" &amp; if I just get a \"hi\" back... well... I know he's a little lazy &amp; wants me to do all the work.  No thank you.       If they DO say something... it's usually something sexual, indicating they're interested in just a hook up.  Men tell me they feel confused because women come on very sexual strong... if this is true... LADIES please stop.... there is NO need for you to show how beautiful you are.  You just have to wait for a REAL man to treat you like you should be treated. &amp; stop sending more pics when you exchange #'s!  They'll want to see you more if you don't!  Tell them if they want to see more, they'll just have to come see the real thing &amp; pick a spot NEAR YOUR HOME.  YOU should be in a safe place &amp; he should show he's willing to put in some effort that he wants to see you. &amp; a real man, will ASSUME that would be the situation &amp; feel happy to meet you by your home.  All my love to my beautiful sisters &amp; to all real men surviving in LA. xoxo</td>\n",
       "      <td>1</td>\n",
       "      <td>1.0</td>\n",
       "    </tr>\n",
       "  </tbody>\n",
       "</table>\n",
       "</div>"
      ],
      "text/plain": [
       "                                                                                                                                                                                                                                                                                                                                                                                                                                                                                                                                                                                                                                                                                                                                                                                                                                                                                                                                                                                                                                                                                                                                                                                                                                                                                        content  \\\n",
       "36075                                                                                                                                                                                                                                                                                                                                                                                                                                                                                                                                                                                                                                                                                                                                                                       I'm more interested in what you like but I like eating I like having dinner and I like having a social talk I like to get to know the person that I would love to date I don't like getting beautiful heart I like to laugh sometimes joke I like to see the smile on other people so tell me some of the things about you the most interesting things and night date. I like dressing up and jeans I like to be comfortable about yourself relax not hang out too tight with a little loose That's My style I hope   \n",
       "53632                                                                                                                                                                                                                                                                                                                                                                                                                                                                                                                                                                                                                                                                                                                                                                                                    I'm surprised but happy, I honestly wasn't looking for a relationship, I'll admit I was looking for a friend with benefits but I met my boyfriend and even liked him so much that I moved to San Diego with him 😂 Now don't get me wrong, there were some duds, some dicks and ghosters, but this app is great. I even use the best friend function and made three best friends from it as well! I'll also admit that some of the girls just use you to get insta followers though lol   \n",
       "37729                                                                                                                                                                                                                                                                                                                                                                                                                                                                                                                                                                                                                                                                                                                                                                                                                                                                                                 awesome, can't wait to meet someone for me but so far so good.Thanks alot especially these times..Thanks so much Bumble and the amazing woman who brought hers from india.. Love those beautiful dark hair dark eyed pretty sweet eomen.. so taking it slow but hope to meet a great one out there..well all women are great but one for me... ;). sassy classy sexy types on here.. muah   \n",
       "86064                                                                                                                                                                                                                                                                                                                                                                                                                                                                                                                                                                                                                                                                                                                                                                                                                                                                    Great concept ladies have control. CON too manu other websites and i clearlu on this one but got REGISTERED TO.A POP UP ONE. LOVELY PEOPLE AND BEST ONLINE DATING SUTE I WANT PART OF!!!!! LITTLE LOVE [SEX] EXPERIENCE SO WISH TO DO BETTER IN WITHBRIGHT LADY!!! DISTACE FORT MYERS BEACH ZIP 19 MILES WAY DOWN MARCO ILAND !!!! APPRECIATE TRUE 5 OR 10 MILES FROM HOME NOT ZIP THAT IS A EASY FIX IN GAME SET UP !   \n",
       "104068  There are some attractive men but it's never been my experience that there was success when ladies have to \"lead\" the conversation.  Feels like we're \"pursuing\" them, which let's be honest ladies... it feels nice to feel wanted & for them to pursue us.  So I will say my \"hello\" & if I just get a \"hi\" back... well... I know he's a little lazy & wants me to do all the work.  No thank you.       If they DO say something... it's usually something sexual, indicating they're interested in just a hook up.  Men tell me they feel confused because women come on very sexual strong... if this is true... LADIES please stop.... there is NO need for you to show how beautiful you are.  You just have to wait for a REAL man to treat you like you should be treated. & stop sending more pics when you exchange #'s!  They'll want to see you more if you don't!  Tell them if they want to see more, they'll just have to come see the real thing & pick a spot NEAR YOUR HOME.  YOU should be in a safe place & he should show he's willing to put in some effort that he wants to see you. & a real man, will ASSUME that would be the situation & feel happy to meet you by your home.  All my love to my beautiful sisters & to all real men surviving in LA. xoxo   \n",
       "\n",
       "        score  polarity  \n",
       "36075       5       1.0  \n",
       "53632       5       1.0  \n",
       "37729       5       1.0  \n",
       "86064       5       1.0  \n",
       "104068      1       1.0  "
      ]
     },
     "execution_count": 34,
     "metadata": {},
     "output_type": "execute_result"
    }
   ],
   "source": [
    "best_and_worst_df.tail()"
   ]
  },
  {
   "cell_type": "markdown",
   "id": "5fcb73c1",
   "metadata": {},
   "source": [
    "**What an interesting cross section of users here...** 🤔🤔\n",
    "\n",
    "**Thanks for reading, hope this was interesting** ✌️"
   ]
  }
 ],
 "metadata": {
  "kernelspec": {
   "display_name": "Python 3 (ipykernel)",
   "language": "python",
   "name": "python3"
  },
  "language_info": {
   "codemirror_mode": {
    "name": "ipython",
    "version": 3
   },
   "file_extension": ".py",
   "mimetype": "text/x-python",
   "name": "python",
   "nbconvert_exporter": "python",
   "pygments_lexer": "ipython3",
   "version": "3.10.5"
  }
 },
 "nbformat": 4,
 "nbformat_minor": 5
}
